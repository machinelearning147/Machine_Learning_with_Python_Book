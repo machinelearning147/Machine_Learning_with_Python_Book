{
 "cells": [
  {
   "cell_type": "markdown",
   "id": "59646768-03be-439a-a653-8fdd6699d7f7",
   "metadata": {},
   "source": [
    "# Chapter2 "
   ]
  },
  {
   "cell_type": "markdown",
   "id": "736087a6-01f8-4346-bdd9-ccaad7cdfc1d",
   "metadata": {},
   "source": [
    "## Numpy"
   ]
  },
  {
   "cell_type": "code",
   "execution_count": 1,
   "id": "9f45a5fa-d367-463d-8c06-825f97840aae",
   "metadata": {},
   "outputs": [],
   "source": [
    "import numpy as np"
   ]
  },
  {
   "cell_type": "code",
   "execution_count": null,
   "id": "527f905c-c8c7-4c22-b159-bb4364046594",
   "metadata": {},
   "outputs": [],
   "source": []
  }
 ],
 "metadata": {
  "kernelspec": {
   "display_name": "mybook",
   "language": "python",
   "name": "mybook"
  },
  "language_info": {
   "codemirror_mode": {
    "name": "ipython",
    "version": 3
   },
   "file_extension": ".py",
   "mimetype": "text/x-python",
   "name": "python",
   "nbconvert_exporter": "python",
   "pygments_lexer": "ipython3",
   "version": "3.12.1"
  }
 },
 "nbformat": 4,
 "nbformat_minor": 5
}