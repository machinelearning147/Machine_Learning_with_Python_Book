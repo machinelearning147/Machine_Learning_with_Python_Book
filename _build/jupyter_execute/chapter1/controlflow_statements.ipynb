{
 "cells": [
  {
   "cell_type": "markdown",
   "id": "9472680d-e703-47e6-8df3-b064839d6bbf",
   "metadata": {},
   "source": [
    "# Introduction to Control Flow Statements\n",
    "\n",
    "Control flow statements are used in programming to control the execution flow of a program based on certain conditions or criteria. They allow you to make decisions, iterate over data, and execute code blocks conditionally or repeatedly.\n",
    "\n",
    "## if-else Statements\n",
    "The if-else statement is used to execute a block of code based on a condition. If the condition evaluates to True, the code inside the if block is executed. Otherwise, the code inside the else block is executed."
   ]
  },
  {
   "cell_type": "code",
   "execution_count": 1,
   "id": "1017962e-a2f6-4854-8a50-b09271f7f32f",
   "metadata": {},
   "outputs": [
    {
     "name": "stdout",
     "output_type": "stream",
     "text": [
      "x is greater than 5\n"
     ]
    }
   ],
   "source": [
    "# Example of if-else statement\n",
    "x = 10\n",
    "if x > 5:\n",
    "    print(\"x is greater than 5\")\n",
    "else:\n",
    "    print(\"x is less than or equal to 5\")"
   ]
  },
  {
   "cell_type": "markdown",
   "id": "1b2a82ba-11b7-4cb9-b079-319edbc5b6db",
   "metadata": {},
   "source": [
    "## for Loops\n",
    "The for loop is used to iterate over a sequence (such as a list, tuple, or string) and execute a block of code for each item in the sequence."
   ]
  },
  {
   "cell_type": "code",
   "execution_count": 2,
   "id": "5811bf51-881b-4686-aefc-7bb5737c2c9d",
   "metadata": {},
   "outputs": [
    {
     "name": "stdout",
     "output_type": "stream",
     "text": [
      "apple\n",
      "banana\n",
      "cherry\n"
     ]
    }
   ],
   "source": [
    "# Example of for loop\n",
    "fruits = [\"apple\", \"banana\", \"cherry\"]\n",
    "for fruit in fruits:\n",
    "    print(fruit)"
   ]
  },
  {
   "cell_type": "markdown",
   "id": "216eb52d-7d56-4a0b-aae4-bc3d8a9b40af",
   "metadata": {},
   "source": [
    "## while Loops\n",
    "The while loop is used to execute a block of code repeatedly as long as a condition is True. It continues to execute the code block until the condition becomes False."
   ]
  },
  {
   "cell_type": "code",
   "execution_count": 3,
   "id": "23f6cac0-7b12-4906-8509-12ca3892a1f2",
   "metadata": {},
   "outputs": [
    {
     "name": "stdout",
     "output_type": "stream",
     "text": [
      "0\n",
      "1\n",
      "2\n",
      "3\n",
      "4\n"
     ]
    }
   ],
   "source": [
    "# Example of while loop\n",
    "count = 0\n",
    "while count < 5:\n",
    "    print(count)\n",
    "    count += 1\n"
   ]
  },
  {
   "cell_type": "markdown",
   "id": "41200bac-2ffc-4da7-8fb2-379caf54e2ca",
   "metadata": {},
   "source": [
    "## Explanation and Code Examples\n",
    "\n",
    "### Example: Checking Even or Odd Number"
   ]
  },
  {
   "cell_type": "code",
   "execution_count": 4,
   "id": "9a721f62-63ac-4fbb-8a87-c135fc9e0853",
   "metadata": {},
   "outputs": [
    {
     "name": "stdout",
     "output_type": "stream",
     "text": [
      "Even\n"
     ]
    }
   ],
   "source": [
    "# Example of if-else statement to check even or odd number\n",
    "num = 10\n",
    "if num % 2 == 0:\n",
    "    print(\"Even\")\n",
    "else:\n",
    "    print(\"Odd\")\n"
   ]
  },
  {
   "cell_type": "markdown",
   "id": "54cf5bb6-4752-4ed3-914b-d36f5f67caa1",
   "metadata": {},
   "source": [
    "### Example: Sum of Numbers in a List"
   ]
  },
  {
   "cell_type": "code",
   "execution_count": 5,
   "id": "e0a4c3dc-4797-4ba5-a212-031393088a44",
   "metadata": {},
   "outputs": [
    {
     "name": "stdout",
     "output_type": "stream",
     "text": [
      "Sum: 15\n"
     ]
    }
   ],
   "source": [
    "# Example of for loop to calculate the sum of numbers in a list\n",
    "numbers = [1, 2, 3, 4, 5]\n",
    "sum = 0\n",
    "for num in numbers:\n",
    "    sum += num\n",
    "print(\"Sum:\", sum)\n"
   ]
  },
  {
   "cell_type": "markdown",
   "id": "5eb5f185-7707-462c-9aeb-3e73d949a783",
   "metadata": {},
   "source": [
    "### Example: Finding Factorial Using while Loop"
   ]
  },
  {
   "cell_type": "code",
   "execution_count": 6,
   "id": "e08cc98e-57a8-4fab-a9ae-e76f59701969",
   "metadata": {},
   "outputs": [
    {
     "name": "stdout",
     "output_type": "stream",
     "text": [
      "Factorial: 120\n"
     ]
    }
   ],
   "source": [
    "# Example of while loop to calculate factorial of a number\n",
    "num = 5\n",
    "factorial = 1\n",
    "while num > 0:\n",
    "    factorial *= num\n",
    "    num -= 1\n",
    "print(\"Factorial:\", factorial)"
   ]
  },
  {
   "cell_type": "markdown",
   "id": "4ba10fe4-a8ea-4ff0-bed8-87110e2fe9d8",
   "metadata": {},
   "source": [
    "These examples demonstrate the usage of control flow statements in Python to make decisions and iterate over data. By understanding these statements, you can control the flow of your program and execute code blocks conditionally or repeatedly based on specific requirements."
   ]
  }
 ],
 "metadata": {
  "kernelspec": {
   "display_name": "mybook",
   "language": "python",
   "name": "mybook"
  },
  "language_info": {
   "codemirror_mode": {
    "name": "ipython",
    "version": 3
   },
   "file_extension": ".py",
   "mimetype": "text/x-python",
   "name": "python",
   "nbconvert_exporter": "python",
   "pygments_lexer": "ipython3",
   "version": "3.12.1"
  }
 },
 "nbformat": 4,
 "nbformat_minor": 5
}