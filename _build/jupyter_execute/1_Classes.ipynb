{
 "cells": [
  {
   "cell_type": "markdown",
   "metadata": {},
   "source": [
    "# Python Classes"
   ]
  },
  {
   "cell_type": "markdown",
   "metadata": {},
   "source": [
    "## StudentRecord Example"
   ]
  },
  {
   "cell_type": "markdown",
   "metadata": {
    "id": "K0kxVL29LbAT"
   },
   "source": [
    "Let's create a simple problem statement and implement a Python class that covers methods (functions), data types, lists, tuples, dictionaries, and control flow statements.\n",
    "\n",
    "**Problem Statement:**\n",
    "\n",
    "Suppose we want to create a class called StudentRecord to store information about students in a school. Each student record should contain the following attributes:\n",
    "\n",
    "```\n",
    "Name\n",
    "Age\n",
    "Grades (a list of grades obtained by the student)\n",
    "Subjects (a tuple containing the names of subjects the student is studying)\n",
    "Extra-curricular Activities (a dictionary containing the names of activities and their respective levels of participation)\n",
    "```\n",
    "\n",
    "The class should have methods to:\n",
    "\n",
    "1. Initialize a student record with default values.\n",
    "2. Add a new grade to the student's grades list.\n",
    "3. Update the student's age.\n",
    "4. Add a new subject to the student's list of subjects.\n",
    "5. Add a new extra-curricular activity with its level of participation.\n",
    "\n",
    "\n",
    "Let's implement the StudentRecord class:"
   ]
  },
  {
   "cell_type": "code",
   "execution_count": 1,
   "metadata": {
    "executionInfo": {
     "elapsed": 7,
     "status": "ok",
     "timestamp": 1710088049542,
     "user": {
      "displayName": "MachineLearning AI",
      "userId": "03978193216139809927"
     },
     "user_tz": -330
    },
    "id": "vShL019SL-G0"
   },
   "outputs": [],
   "source": [
    "class StudentRecord:\n",
    "    def __init__(self, name, age=0, grades=None, subjects=None, activities=None):\n",
    "        self.name = name\n",
    "        self.age = age\n",
    "        self.grades = [] if grades is None else grades\n",
    "        self.subjects = () if subjects is None else subjects\n",
    "        self.activities = {} if activities is None else activities\n",
    "\n",
    "    def add_grade(self, grade):\n",
    "        self.grades.append(grade)\n",
    "\n",
    "    def update_age(self, new_age):\n",
    "        self.age = new_age\n",
    "\n",
    "    def add_subject(self, subject):\n",
    "        self.subjects += (subject,)\n",
    "\n",
    "    def add_activity(self, activity, level):\n",
    "        self.activities[activity] = level\n"
   ]
  },
  {
   "cell_type": "code",
   "execution_count": 2,
   "metadata": {
    "colab": {
     "base_uri": "https://localhost:8080/"
    },
    "executionInfo": {
     "elapsed": 473,
     "status": "ok",
     "timestamp": 1710088059782,
     "user": {
      "displayName": "MachineLearning AI",
      "userId": "03978193216139809927"
     },
     "user_tz": -330
    },
    "id": "2gLQVL6yMKSu",
    "outputId": "b88bf7b6-f7ef-49bd-e5f7-cb7e6e870d27"
   },
   "outputs": [
    {
     "name": "stdout",
     "output_type": "stream",
     "text": [
      "Alice\n",
      "15\n",
      "[85, 90, 92]\n",
      "('Math', 'Science')\n",
      "{'Sports': 'High'}\n"
     ]
    }
   ],
   "source": [
    "\n",
    "# Example usage:\n",
    "student1 = StudentRecord(\"Alice\", age=15, grades=[85, 90, 92], subjects=(\"Math\", \"Science\"), activities={\"Sports\": \"High\"})\n",
    "print(student1.name)\n",
    "print(student1.age)\n",
    "print(student1.grades)\n",
    "print(student1.subjects)\n",
    "print(student1.activities)\n"
   ]
  },
  {
   "cell_type": "code",
   "execution_count": 3,
   "metadata": {
    "colab": {
     "base_uri": "https://localhost:8080/"
    },
    "executionInfo": {
     "elapsed": 8,
     "status": "ok",
     "timestamp": 1710088065072,
     "user": {
      "displayName": "MachineLearning AI",
      "userId": "03978193216139809927"
     },
     "user_tz": -330
    },
    "id": "K492iAcKMNAc",
    "outputId": "78545553-935b-4d26-ff0f-e769583d4520"
   },
   "outputs": [
    {
     "name": "stdout",
     "output_type": "stream",
     "text": [
      "[85, 90, 92, 88]\n",
      "16\n",
      "('Math', 'Science', 'English')\n",
      "{'Sports': 'High', 'Music': 'Intermediate'}\n"
     ]
    }
   ],
   "source": [
    "\n",
    "student1.add_grade(88)\n",
    "student1.update_age(16)\n",
    "student1.add_subject(\"English\")\n",
    "student1.add_activity(\"Music\", \"Intermediate\")\n",
    "\n",
    "print(student1.grades)\n",
    "print(student1.age)\n",
    "print(student1.subjects)\n",
    "print(student1.activities)\n"
   ]
  },
  {
   "cell_type": "markdown",
   "metadata": {
    "id": "3fqPJjMGMYDz"
   },
   "source": [
    "This StudentRecord class demonstrates the use of methods (functions) to add grades, update age, add subjects, and add extra-curricular activities.\n",
    "\n",
    "It also utilizes various data types such as lists, tuples, and dictionaries to store information about the student.\n",
    "\n",
    "Additionally, control flow statements are not explicitly used in this class but could be incorporated within the methods if necessary for error handling or validation."
   ]
  },
  {
   "cell_type": "markdown",
   "metadata": {},
   "source": [
    "## ShoppingCart Example"
   ]
  },
  {
   "cell_type": "markdown",
   "metadata": {
    "id": "nGgPhUJjN2lP"
   },
   "source": [
    "Let's see another example."
   ]
  },
  {
   "cell_type": "markdown",
   "metadata": {
    "id": "9Q4jY1W6N2Bi"
   },
   "source": [
    "**Problem Statement:**\n",
    "\n",
    "Implement a class called ShoppingCart that:\n",
    "\n",
    "Initializes with an empty list of items and a total cost of zero.\n",
    "Provides methods to add items to the cart, remove items, and calculate the total cost of all items in the cart.\n",
    "\n",
    "**Class Structure:**\n",
    "\n",
    "Initialize the class with an empty list of items (cart) and a total cost (total_cost).\n",
    "\n",
    "Provide a method to add items to the cart, where each item is represented by a dictionary containing its name and price.\n",
    "\n",
    "Provide a method to remove items from the cart by specifying their name.\n",
    "\n",
    "Provide a method to calculate the total cost of all items in the cart.\n",
    "\n",
    "Here's an outline of the ShoppingCart class:"
   ]
  },
  {
   "cell_type": "code",
   "execution_count": 4,
   "metadata": {
    "executionInfo": {
     "elapsed": 8,
     "status": "ok",
     "timestamp": 1710088553667,
     "user": {
      "displayName": "MachineLearning AI",
      "userId": "03978193216139809927"
     },
     "user_tz": -330
    },
    "id": "7pc-ukjZMQqg"
   },
   "outputs": [],
   "source": [
    "class ShoppingCart:\n",
    "    def __init__(self):\n",
    "        self.cart = []  # List of items in the cart\n",
    "        self.total_cost = 0  # Total cost of all items in the cart\n",
    "\n",
    "    def add_item(self, item_name, item_price):\n",
    "        # Add an item to the cart\n",
    "        # item_name: Name of the item\n",
    "        # item_price: Price of the item\n",
    "        self.cart.append({\"name\": item_name, \"price\": item_price})\n",
    "        self.total_cost += item_price\n",
    "\n",
    "    def remove_item(self, item_name):\n",
    "        # Remove an item from the cart by specifying its name\n",
    "        # item_name: Name of the item to be removed\n",
    "        for item in self.cart:\n",
    "            if item[\"name\"] == item_name:\n",
    "                self.total_cost -= item[\"price\"]\n",
    "                self.cart.remove(item)\n",
    "                break\n",
    "\n",
    "    def calculate_total_cost(self):\n",
    "        # Calculate the total cost of all items in the cart\n",
    "        return self.total_cost\n"
   ]
  },
  {
   "cell_type": "markdown",
   "metadata": {
    "id": "d1baJtlaOL3j"
   },
   "source": [
    "Now, let's provide an example usage of this class:"
   ]
  },
  {
   "cell_type": "code",
   "execution_count": 5,
   "metadata": {
    "colab": {
     "base_uri": "https://localhost:8080/"
    },
    "executionInfo": {
     "elapsed": 9,
     "status": "ok",
     "timestamp": 1710088578707,
     "user": {
      "displayName": "MachineLearning AI",
      "userId": "03978193216139809927"
     },
     "user_tz": -330
    },
    "id": "t9Q3oVhXOH7k",
    "outputId": "b83018a7-fef2-470d-9f07-c5ceb56c63af"
   },
   "outputs": [
    {
     "name": "stdout",
     "output_type": "stream",
     "text": [
      "Total cost: 1070\n",
      "Total cost after removal: 1050\n"
     ]
    }
   ],
   "source": [
    "# Example usage:\n",
    "cart = ShoppingCart()\n",
    "\n",
    "# Add items to the cart\n",
    "cart.add_item(\"Laptop\", 1000)\n",
    "cart.add_item(\"Mouse\", 20)\n",
    "cart.add_item(\"Keyboard\", 50)\n",
    "\n",
    "# Calculate total cost\n",
    "total_cost = cart.calculate_total_cost()\n",
    "print(\"Total cost:\", total_cost)\n",
    "\n",
    "# Remove an item from the cart\n",
    "cart.remove_item(\"Mouse\")\n",
    "\n",
    "# Calculate total cost again\n",
    "total_cost_after_removal = cart.calculate_total_cost()\n",
    "print(\"Total cost after removal:\", total_cost_after_removal)\n"
   ]
  },
  {
   "cell_type": "markdown",
   "metadata": {
    "id": "N0ASAnMoOSKa"
   },
   "source": [
    "In this example, we've created a simple ShoppingCart class that allows adding items to the cart, removing items, and calculating the total cost. This problem is relatable and easy to understand for beginners, making it suitable for learning about Python classes and basic programming concepts."
   ]
  },
  {
   "cell_type": "markdown",
   "metadata": {},
   "source": [
    "## Online Shopping Cart Example"
   ]
  },
  {
   "cell_type": "markdown",
   "metadata": {
    "id": "TQP-4K8VOsJK"
   },
   "source": [
    "Let's add another method to print invoice:"
   ]
  },
  {
   "cell_type": "code",
   "execution_count": 6,
   "metadata": {
    "executionInfo": {
     "elapsed": 511,
     "status": "ok",
     "timestamp": 1710088886459,
     "user": {
      "displayName": "MachineLearning AI",
      "userId": "03978193216139809927"
     },
     "user_tz": -330
    },
    "id": "2FLfay_TOOHi"
   },
   "outputs": [],
   "source": [
    "class OnlineShoppingCart:\n",
    "    def __init__(self):\n",
    "        # Initialize an empty cart\n",
    "        self.cart = []\n",
    "\n",
    "    def add_item(self, item_name, quantity, price_per_unit):\n",
    "        # Add an item to the cart\n",
    "        # item_name: Name of the item\n",
    "        # quantity: Quantity of the item\n",
    "        # price_per_unit: Price per unit of the item\n",
    "        self.cart.append((item_name, quantity, price_per_unit))     \n",
    "\n",
    "    def calculate_total_cost(self):\n",
    "        # Calculate the total cost of all items in the cart\n",
    "        total_cost = 0\n",
    "        for item in self.cart:\n",
    "            total_cost += item[1] * item[2]  # quantity * price_per_unit\n",
    "        return total_cost\n",
    "\n",
    "    def print_invoice(self):\n",
    "        # Print a detailed invoice showing each item, quantity, price, and total cost\n",
    "        print(\"********** Invoice **********\")\n",
    "        print(\"Item\\t\\tQuantity\\tPrice\\t\\tTotal Cost\")\n",
    "        for item in self.cart:\n",
    "            item_name, quantity, price_per_unit = item\n",
    "            total_cost = quantity * price_per_unit\n",
    "            print(f\"{item_name}\\t\\t{quantity}\\t\\t${price_per_unit:.2f}\\t\\t${total_cost:.2f}\")\n",
    "        print(\"-----------------------------\")\n",
    "        print(f\"Total Cost:\\t\\t\\t\\t\\t${self.calculate_total_cost():.2f}\")\n",
    "        print(\"*****************************\")\n",
    "\n"
   ]
  },
  {
   "cell_type": "code",
   "execution_count": 7,
   "metadata": {
    "colab": {
     "base_uri": "https://localhost:8080/"
    },
    "executionInfo": {
     "elapsed": 7,
     "status": "ok",
     "timestamp": 1710088931501,
     "user": {
      "displayName": "MachineLearning AI",
      "userId": "03978193216139809927"
     },
     "user_tz": -330
    },
    "id": "sUqmhrqTO5VX",
    "outputId": "81665986-f24a-4594-99d8-d6a70f3463a1"
   },
   "outputs": [
    {
     "name": "stdout",
     "output_type": "stream",
     "text": [
      "********** Invoice **********\n",
      "Item\t\tQuantity\tPrice\t\tTotal Cost\n",
      "Laptop\t\t1\t\t$999.00\t\t$999.00\n",
      "Pen\t\t2\t\t$49.99\t\t$99.98\n",
      "Book\t\t1\t\t$19.99\t\t$19.99\n",
      "-----------------------------\n",
      "Total Cost:\t\t\t\t\t$1118.97\n",
      "*****************************\n"
     ]
    }
   ],
   "source": [
    "# Example usage:\n",
    "cart = OnlineShoppingCart()\n",
    "\n",
    "# Add items to the cart\n",
    "cart.add_item(\"Laptop\", 1, 999)\n",
    "cart.add_item(\"Pen\", 2, 49.99)\n",
    "cart.add_item(\"Book\", 1, 19.99)\n",
    "\n",
    "# Print the detailed invoice\n",
    "cart.print_invoice()\n"
   ]
  },
  {
   "cell_type": "markdown",
   "metadata": {
    "id": "_LPO542cPqWb"
   },
   "source": [
    "This class simulates an online shopping cart, allowing users to add items, calculate the total cost, and print a detailed invoice. It's a relatable example that demonstrates object-oriented programming principles in a simple and elegant way."
   ]
  }
 ],
 "metadata": {
  "colab": {
   "authorship_tag": "ABX9TyPXioDRZME68MGyCMi6E24d",
   "provenance": []
  },
  "kernelspec": {
   "display_name": "mybook",
   "language": "python",
   "name": "mybook"
  },
  "language_info": {
   "codemirror_mode": {
    "name": "ipython",
    "version": 3
   },
   "file_extension": ".py",
   "mimetype": "text/x-python",
   "name": "python",
   "nbconvert_exporter": "python",
   "pygments_lexer": "ipython3",
   "version": "3.12.1"
  }
 },
 "nbformat": 4,
 "nbformat_minor": 4
}